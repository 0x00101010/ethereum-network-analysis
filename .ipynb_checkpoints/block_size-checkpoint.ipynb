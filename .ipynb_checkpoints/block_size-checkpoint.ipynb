{
 "cells": [
  {
   "cell_type": "code",
   "execution_count": 1,
   "id": "21203391-9f74-48d6-ab86-6be33d476ac6",
   "metadata": {},
   "outputs": [
    {
     "name": "stderr",
     "output_type": "stream",
     "text": [
      "/Users/francis/.asdf/installs/python/3.12.4/lib/python3.12/site-packages/tqdm/auto.py:21: TqdmWarning: IProgress not found. Please update jupyter and ipywidgets. See https://ipywidgets.readthedocs.io/en/stable/user_install.html\n",
      "  from .autonotebook import tqdm as notebook_tqdm\n",
      "2024-10-04 09:34:13,929 - INFO - Clickhouse configs set\n",
      "2024-10-04 09:34:13,929 - INFO - Clickhouse URL: https://clickhouse.analytics.production.platform.ethpandaops.io, User: base\n"
     ]
    },
    {
     "name": "stdout",
     "output_type": "stream",
     "text": [
      "Config Path:  /Users/francis/.pyxatu_config.json\n",
      "Table canonical_beacon_elaborated_attestation not found.\n",
      "Table beacon_api_eth_v1_events_attestation not found.\n",
      "Table beacon_api_eth_v2_beacon_block not found.\n",
      "Table beacon_api_eth_v1_events_blob_sidecar not found.\n",
      "Table canonical_beacon_blob_sidecar not found.\n",
      "Table beacon_api_eth_v1_events_block not found.\n",
      "Table canonical_beacon_block not found.\n",
      "Table canonical_execution_transaction not found.\n",
      "Table canonical_beacon_block_execution_transaction not found.\n",
      "Table canonical_beacon_block not found.\n",
      "Table canonical_beacon_proposer_duty not found.\n",
      "Table beacon_api_eth_v1_events_chain_reorg not found.\n",
      "Table canonical_beacon_block not found.\n",
      "Table canonical_beacon_block_execution_transaction not found.\n",
      "Table canonical_beacon_block_withdrawal not found.\n"
     ]
    }
   ],
   "source": [
    "import pyxatu\n",
    "\n",
    "xatu = pyxatu.PyXatu()"
   ]
  },
  {
   "cell_type": "code",
   "execution_count": 2,
   "id": "1f5a531b-7b58-4cda-9d32-b2dc6295b641",
   "metadata": {},
   "outputs": [
    {
     "name": "stderr",
     "output_type": "stream",
     "text": [
      "2024-10-04 09:34:19,789 - INFO - Executing query: SELECT DISTINCT slot, execution_payload_block_number, execution_payload_gas_used FROM canonical_beacon_block FINAL WHERE slot_start_date_time >= '2024-05-04 12:00:23' AND slot_start_date_time < '2024-05-04 12:02:23' AND slot >= 9000000 AND slot < 9000010 AND meta_network_name = 'mainnet' ORDER BY slot\n"
     ]
    },
    {
     "name": "stdout",
     "output_type": "stream",
     "text": [
      "Table canonical_beacon_block not found.\n"
     ]
    },
    {
     "name": "stderr",
     "output_type": "stream",
     "text": [
      "2024-10-04 09:34:20,763 - INFO - Query executed in 0.97 seconds\n"
     ]
    },
    {
     "name": "stdout",
     "output_type": "stream",
     "text": [
      "      slot  execution_payload_block_number  execution_payload_gas_used\n",
      "0  9000000                        19796604                    18026681\n",
      "1  9000001                        19796605                    13920219\n",
      "2  9000002                        19796606                    12498513\n",
      "3  9000003                        19796607                     2914192\n",
      "4  9000004                        19796608                    29996743\n",
      "5  9000005                        19796609                    19938160\n",
      "6  9000006                        19796610                    13557982\n",
      "7  9000007                        19796611                    11651230\n",
      "8  9000008                        19796612                    14823656\n",
      "9  9000009                        19796613                    19436774\n"
     ]
    }
   ],
   "source": [
    "df = xatu.get_slots(\n",
    "   slot = [9000000, 9000010],\n",
    "   columns=\"slot, execution_payload_block_number, execution_payload_gas_used\",\n",
    "   orderby=\"slot\"\n",
    ")\n",
    "\n",
    "print(df)"
   ]
  },
  {
   "cell_type": "code",
   "execution_count": 19,
   "id": "00e936be-faae-4839-bf78-95e2369b4697",
   "metadata": {},
   "outputs": [
    {
     "name": "stderr",
     "output_type": "stream",
     "text": [
      "2024-10-04 09:49:37,221 - INFO - Executing query: SELECT DISTINCT slot,block_total_bytes_compressed,block_total_bytes,execution_payload_blob_gas_used,execution_payload_transactions_total_bytes,execution_payload_transactions_total_bytes_compressed FROM canonical_beacon_block FINAL WHERE slot_start_date_time >= '2024-09-05 00:20:23' AND slot_start_date_time < '2024-10-04 00:20:23' AND slot >= 9889300 AND slot < 10098100 AND meta_network_name = 'mainnet'\n"
     ]
    },
    {
     "name": "stdout",
     "output_type": "stream",
     "text": [
      "Table canonical_beacon_block not found.\n"
     ]
    },
    {
     "name": "stderr",
     "output_type": "stream",
     "text": [
      "2024-10-04 09:49:39,145 - INFO - Query executed in 1.92 seconds\n"
     ]
    },
    {
     "data": {
      "text/html": [
       "<div>\n",
       "<style scoped>\n",
       "    .dataframe tbody tr th:only-of-type {\n",
       "        vertical-align: middle;\n",
       "    }\n",
       "\n",
       "    .dataframe tbody tr th {\n",
       "        vertical-align: top;\n",
       "    }\n",
       "\n",
       "    .dataframe thead th {\n",
       "        text-align: right;\n",
       "    }\n",
       "</style>\n",
       "<table border=\"1\" class=\"dataframe\">\n",
       "  <thead>\n",
       "    <tr style=\"text-align: right;\">\n",
       "      <th></th>\n",
       "      <th>slot</th>\n",
       "      <th>block_total_bytes_compressed</th>\n",
       "      <th>block_total_bytes</th>\n",
       "      <th>execution_payload_transactions_total_bytes</th>\n",
       "      <th>execution_payload_transactions_total_bytes_compressed</th>\n",
       "      <th>blobs</th>\n",
       "    </tr>\n",
       "  </thead>\n",
       "  <tbody>\n",
       "    <tr>\n",
       "      <th>0</th>\n",
       "      <td>10093914</td>\n",
       "      <td>57965</td>\n",
       "      <td>141025</td>\n",
       "      <td>44532</td>\n",
       "      <td>21560</td>\n",
       "      <td>0</td>\n",
       "    </tr>\n",
       "    <tr>\n",
       "      <th>1</th>\n",
       "      <td>10093918</td>\n",
       "      <td>100903</td>\n",
       "      <td>238406</td>\n",
       "      <td>71297</td>\n",
       "      <td>37400</td>\n",
       "      <td>0</td>\n",
       "    </tr>\n",
       "    <tr>\n",
       "      <th>2</th>\n",
       "      <td>10093923</td>\n",
       "      <td>90057</td>\n",
       "      <td>220881</td>\n",
       "      <td>62289</td>\n",
       "      <td>31393</td>\n",
       "      <td>6</td>\n",
       "    </tr>\n",
       "    <tr>\n",
       "      <th>3</th>\n",
       "      <td>10093927</td>\n",
       "      <td>62812</td>\n",
       "      <td>166341</td>\n",
       "      <td>55849</td>\n",
       "      <td>24038</td>\n",
       "      <td>6</td>\n",
       "    </tr>\n",
       "    <tr>\n",
       "      <th>4</th>\n",
       "      <td>10093933</td>\n",
       "      <td>101166</td>\n",
       "      <td>248998</td>\n",
       "      <td>76477</td>\n",
       "      <td>37827</td>\n",
       "      <td>0</td>\n",
       "    </tr>\n",
       "    <tr>\n",
       "      <th>...</th>\n",
       "      <td>...</td>\n",
       "      <td>...</td>\n",
       "      <td>...</td>\n",
       "      <td>...</td>\n",
       "      <td>...</td>\n",
       "      <td>...</td>\n",
       "    </tr>\n",
       "    <tr>\n",
       "      <th>201595</th>\n",
       "      <td>9980806</td>\n",
       "      <td>101908</td>\n",
       "      <td>235443</td>\n",
       "      <td>69943</td>\n",
       "      <td>38490</td>\n",
       "      <td>0</td>\n",
       "    </tr>\n",
       "    <tr>\n",
       "      <th>201596</th>\n",
       "      <td>9980807</td>\n",
       "      <td>85891</td>\n",
       "      <td>208272</td>\n",
       "      <td>73782</td>\n",
       "      <td>36166</td>\n",
       "      <td>2</td>\n",
       "    </tr>\n",
       "    <tr>\n",
       "      <th>201597</th>\n",
       "      <td>9980808</td>\n",
       "      <td>68474</td>\n",
       "      <td>165409</td>\n",
       "      <td>55654</td>\n",
       "      <td>27286</td>\n",
       "      <td>0</td>\n",
       "    </tr>\n",
       "    <tr>\n",
       "      <th>201598</th>\n",
       "      <td>9980813</td>\n",
       "      <td>80676</td>\n",
       "      <td>182178</td>\n",
       "      <td>62935</td>\n",
       "      <td>34608</td>\n",
       "      <td>1</td>\n",
       "    </tr>\n",
       "    <tr>\n",
       "      <th>201599</th>\n",
       "      <td>9980815</td>\n",
       "      <td>87087</td>\n",
       "      <td>219995</td>\n",
       "      <td>62260</td>\n",
       "      <td>29935</td>\n",
       "      <td>0</td>\n",
       "    </tr>\n",
       "  </tbody>\n",
       "</table>\n",
       "<p>201600 rows × 6 columns</p>\n",
       "</div>"
      ],
      "text/plain": [
       "            slot  block_total_bytes_compressed  block_total_bytes  \\\n",
       "0       10093914                         57965             141025   \n",
       "1       10093918                        100903             238406   \n",
       "2       10093923                         90057             220881   \n",
       "3       10093927                         62812             166341   \n",
       "4       10093933                        101166             248998   \n",
       "...          ...                           ...                ...   \n",
       "201595   9980806                        101908             235443   \n",
       "201596   9980807                         85891             208272   \n",
       "201597   9980808                         68474             165409   \n",
       "201598   9980813                         80676             182178   \n",
       "201599   9980815                         87087             219995   \n",
       "\n",
       "        execution_payload_transactions_total_bytes  \\\n",
       "0                                            44532   \n",
       "1                                            71297   \n",
       "2                                            62289   \n",
       "3                                            55849   \n",
       "4                                            76477   \n",
       "...                                            ...   \n",
       "201595                                       69943   \n",
       "201596                                       73782   \n",
       "201597                                       55654   \n",
       "201598                                       62935   \n",
       "201599                                       62260   \n",
       "\n",
       "        execution_payload_transactions_total_bytes_compressed  blobs  \n",
       "0                                                   21560          0  \n",
       "1                                                   37400          0  \n",
       "2                                                   31393          6  \n",
       "3                                                   24038          6  \n",
       "4                                                   37827          0  \n",
       "...                                                   ...        ...  \n",
       "201595                                              38490          0  \n",
       "201596                                              36166          2  \n",
       "201597                                              27286          0  \n",
       "201598                                              34608          1  \n",
       "201599                                              29935          0  \n",
       "\n",
       "[201600 rows x 6 columns]"
      ]
     },
     "execution_count": 19,
     "metadata": {},
     "output_type": "execute_result"
    }
   ],
   "source": [
    "slots_per_day = 24 * 60 * 60 // 12\n",
    "days = 28\n",
    "# Oct-04-2024 12:20:23 AM UTC\n",
    "end_slot = 10098100       \n",
    "# Oct-03-2024 12:20:23 AM UTC, for some reason, the last several hundred roles are not populated with data\n",
    "# so deduct one day worth of slot from the end_slot\n",
    "real_end_slot = end_slot - slots_per_day\n",
    "# Sep-19-2024 12:20:23 AM UTC, 15 days from end slot\n",
    "start_slot = end_slot - (days + 1) * slots_per_day\n",
    "\n",
    "df = xatu.get_block_size(\n",
    "    slot = [start_slot, end_slot],\n",
    "    orderby = \"slot\"\n",
    ")\n",
    "\n",
    "df = df[:days * slots_per_day]\n",
    "df"
   ]
  },
  {
   "cell_type": "code",
   "execution_count": 17,
   "id": "b5ae2339-0420-4b6f-99aa-dda1ba1e2c27",
   "metadata": {},
   "outputs": [
    {
     "name": "stdout",
     "output_type": "stream",
     "text": [
      " Metric  Value (bytes)  Value (KB)\n",
      "    p90         221207      216.02\n",
      "    p95         292492      285.64\n",
      "    p99         331974      324.19\n",
      "   p999         457463      446.74\n",
      "Average         625854      611.19\n"
     ]
    }
   ],
   "source": [
    "import pandas as pd\n",
    "import numpy as np\n",
    "\n",
    "# Calculate percentiles\n",
    "percentiles = df['block_total_bytes'].quantile([0.90, 0.95, 0.99, 0.999, 0.9999])\n",
    "\n",
    "# Calculate average\n",
    "average = df['block_total_bytes'].mean()\n",
    "\n",
    "# Create a result DataFrame\n",
    "result = pd.DataFrame({\n",
    "    'Metric': ['p90', 'p95', 'p99', 'p999', 'Average'],\n",
    "    'Value (bytes)': [\n",
    "        average,\n",
    "        percentiles[0.90],\n",
    "        percentiles[0.95],\n",
    "        percentiles[0.99],\n",
    "        percentiles[0.999]\n",
    "    ]\n",
    "})\n",
    "\n",
    "# Convert bytes to KB\n",
    "result['Value (KB)'] = result['Value (bytes)'] / 1024\n",
    "\n",
    "# Format the 'Value (bytes)' column to show whole numbers\n",
    "result['Value (bytes)'] = result['Value (bytes)'].round(0).astype(int)\n",
    "\n",
    "# Format the 'Value (KB)' column to show 2 decimal places\n",
    "result['Value (KB)'] = result['Value (KB)'].round(2)\n",
    "\n",
    "# Display the result\n",
    "print(result.to_string(index=False))"
   ]
  },
  {
   "cell_type": "code",
   "execution_count": null,
   "id": "2a19f06d-1c84-4c09-8632-16eae496732f",
   "metadata": {},
   "outputs": [],
   "source": []
  }
 ],
 "metadata": {
  "kernelspec": {
   "display_name": "Python 3 (ipykernel)",
   "language": "python",
   "name": "python3"
  },
  "language_info": {
   "codemirror_mode": {
    "name": "ipython",
    "version": 3
   },
   "file_extension": ".py",
   "mimetype": "text/x-python",
   "name": "python",
   "nbconvert_exporter": "python",
   "pygments_lexer": "ipython3",
   "version": "3.12.4"
  }
 },
 "nbformat": 4,
 "nbformat_minor": 5
}
